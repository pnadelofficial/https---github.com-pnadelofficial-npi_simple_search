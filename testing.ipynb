{
 "cells": [
  {
   "cell_type": "code",
   "execution_count": 28,
   "metadata": {},
   "outputs": [],
   "source": [
    "import pandas as pd\n",
    "import re"
   ]
  },
  {
   "cell_type": "code",
   "execution_count": 29,
   "metadata": {},
   "outputs": [
    {
     "data": {
      "text/html": [
       "<div>\n",
       "<style scoped>\n",
       "    .dataframe tbody tr th:only-of-type {\n",
       "        vertical-align: middle;\n",
       "    }\n",
       "\n",
       "    .dataframe tbody tr th {\n",
       "        vertical-align: top;\n",
       "    }\n",
       "\n",
       "    .dataframe thead th {\n",
       "        text-align: right;\n",
       "    }\n",
       "</style>\n",
       "<table border=\"1\" class=\"dataframe\">\n",
       "  <thead>\n",
       "    <tr style=\"text-align: right;\">\n",
       "      <th></th>\n",
       "      <th>Unnamed: 0</th>\n",
       "      <th>filename</th>\n",
       "    </tr>\n",
       "  </thead>\n",
       "  <tbody>\n",
       "    <tr>\n",
       "      <th>0</th>\n",
       "      <td>0</td>\n",
       "      <td>2019-05-10 TS_Mrs D [W1921].pdf</td>\n",
       "    </tr>\n",
       "    <tr>\n",
       "      <th>1</th>\n",
       "      <td>1</td>\n",
       "      <td>2019-06-06 TS_Peter Buckland [W0694].pdf</td>\n",
       "    </tr>\n",
       "    <tr>\n",
       "      <th>2</th>\n",
       "      <td>2</td>\n",
       "      <td>2019-05-06 TS_Michelle Baker [W1825].pdf</td>\n",
       "    </tr>\n",
       "    <tr>\n",
       "      <th>3</th>\n",
       "      <td>3</td>\n",
       "      <td>2020-02-25 TS_Psychosocial Experts (London).pdf</td>\n",
       "    </tr>\n",
       "    <tr>\n",
       "      <th>4</th>\n",
       "      <td>4</td>\n",
       "      <td>2019-05-01 TS_Carolyn Challis [W0622].pdf</td>\n",
       "    </tr>\n",
       "    <tr>\n",
       "      <th>...</th>\n",
       "      <td>...</td>\n",
       "      <td>...</td>\n",
       "    </tr>\n",
       "    <tr>\n",
       "      <th>362</th>\n",
       "      <td>362</td>\n",
       "      <td>2019-07-05 TS_William Wright [W2287], Rosemary...</td>\n",
       "    </tr>\n",
       "    <tr>\n",
       "      <th>363</th>\n",
       "      <td>363</td>\n",
       "      <td>2019-07-10 TS_Ms Y [W2288].pdf</td>\n",
       "    </tr>\n",
       "    <tr>\n",
       "      <th>364</th>\n",
       "      <td>364</td>\n",
       "      <td>2019-07-09 TS_Mr W [W2781], Christine Norval [...</td>\n",
       "    </tr>\n",
       "    <tr>\n",
       "      <th>365</th>\n",
       "      <td>365</td>\n",
       "      <td>2019-07-10 TS_Pauline Reid [W2247].pdf</td>\n",
       "    </tr>\n",
       "    <tr>\n",
       "      <th>366</th>\n",
       "      <td>366</td>\n",
       "      <td>2019-07-10 TS_Mr X [W2137], Ms Y [W2288], Paul...</td>\n",
       "    </tr>\n",
       "  </tbody>\n",
       "</table>\n",
       "<p>367 rows × 2 columns</p>\n",
       "</div>"
      ],
      "text/plain": [
       "     Unnamed: 0                                           filename\n",
       "0             0                    2019-05-10 TS_Mrs D [W1921].pdf\n",
       "1             1           2019-06-06 TS_Peter Buckland [W0694].pdf\n",
       "2             2           2019-05-06 TS_Michelle Baker [W1825].pdf\n",
       "3             3    2020-02-25 TS_Psychosocial Experts (London).pdf\n",
       "4             4          2019-05-01 TS_Carolyn Challis [W0622].pdf\n",
       "..          ...                                                ...\n",
       "362         362  2019-07-05 TS_William Wright [W2287], Rosemary...\n",
       "363         363                     2019-07-10 TS_Ms Y [W2288].pdf\n",
       "364         364  2019-07-09 TS_Mr W [W2781], Christine Norval [...\n",
       "365         365             2019-07-10 TS_Pauline Reid [W2247].pdf\n",
       "366         366  2019-07-10 TS_Mr X [W2137], Ms Y [W2288], Paul...\n",
       "\n",
       "[367 rows x 2 columns]"
      ]
     },
     "execution_count": 29,
     "metadata": {},
     "output_type": "execute_result"
    }
   ],
   "source": [
    "ref = pd.read_csv('reference.csv')\n",
    "ref"
   ]
  },
  {
   "cell_type": "code",
   "execution_count": 30,
   "metadata": {},
   "outputs": [],
   "source": [
    "at = pd.read_csv('all_transcripts.csv').rename(columns={'index':'org_index'}).dropna()"
   ]
  },
  {
   "cell_type": "code",
   "execution_count": 31,
   "metadata": {},
   "outputs": [
    {
     "data": {
      "text/html": [
       "<div>\n",
       "<style scoped>\n",
       "    .dataframe tbody tr th:only-of-type {\n",
       "        vertical-align: middle;\n",
       "    }\n",
       "\n",
       "    .dataframe tbody tr th {\n",
       "        vertical-align: top;\n",
       "    }\n",
       "\n",
       "    .dataframe thead th {\n",
       "        text-align: right;\n",
       "    }\n",
       "</style>\n",
       "<table border=\"1\" class=\"dataframe\">\n",
       "  <thead>\n",
       "    <tr style=\"text-align: right;\">\n",
       "      <th></th>\n",
       "      <th>Unnamed: 0</th>\n",
       "      <th>org_index</th>\n",
       "      <th>text_clean</th>\n",
       "    </tr>\n",
       "  </thead>\n",
       "  <tbody>\n",
       "    <tr>\n",
       "      <th>0</th>\n",
       "      <td>0</td>\n",
       "      <td>0</td>\n",
       "      <td>\\n  \\n</td>\n",
       "    </tr>\n",
       "    <tr>\n",
       "      <th>1</th>\n",
       "      <td>1</td>\n",
       "      <td>0</td>\n",
       "      <td>SIR BRIAN LANGSTAFF:</td>\n",
       "    </tr>\n",
       "    <tr>\n",
       "      <th>2</th>\n",
       "      <td>2</td>\n",
       "      <td>0</td>\n",
       "      <td>Our next witness will give evidence \\nunder...</td>\n",
       "    </tr>\n",
       "    <tr>\n",
       "      <th>3</th>\n",
       "      <td>3</td>\n",
       "      <td>0</td>\n",
       "      <td>SIR BRIAN LANGSTAFF:</td>\n",
       "    </tr>\n",
       "    <tr>\n",
       "      <th>4</th>\n",
       "      <td>4</td>\n",
       "      <td>0</td>\n",
       "      <td>I understand, Mrs D, that for your \\ncomfor...</td>\n",
       "    </tr>\n",
       "    <tr>\n",
       "      <th>...</th>\n",
       "      <td>...</td>\n",
       "      <td>...</td>\n",
       "      <td>...</td>\n",
       "    </tr>\n",
       "    <tr>\n",
       "      <th>307386</th>\n",
       "      <td>307386</td>\n",
       "      <td>366</td>\n",
       "      <td>Thank you. \\n</td>\n",
       "    </tr>\n",
       "    <tr>\n",
       "      <th>307387</th>\n",
       "      <td>307387</td>\n",
       "      <td>366</td>\n",
       "      <td>SIR BRIAN LANGSTAFF:</td>\n",
       "    </tr>\n",
       "    <tr>\n",
       "      <th>307388</th>\n",
       "      <td>307388</td>\n",
       "      <td>366</td>\n",
       "      <td>10 o'clock tomorrow.\\n</td>\n",
       "    </tr>\n",
       "    <tr>\n",
       "      <th>307389</th>\n",
       "      <td>307389</td>\n",
       "      <td>366</td>\n",
       "      <td>MS FRASER BUTLIN:</td>\n",
       "    </tr>\n",
       "    <tr>\n",
       "      <th>307390</th>\n",
       "      <td>307390</td>\n",
       "      <td>366</td>\n",
       "      <td>Thank you, sir. \\n(5.08 pm) \\n(Adjourned un...</td>\n",
       "    </tr>\n",
       "  </tbody>\n",
       "</table>\n",
       "<p>307385 rows × 3 columns</p>\n",
       "</div>"
      ],
      "text/plain": [
       "        Unnamed: 0  org_index  \\\n",
       "0                0          0   \n",
       "1                1          0   \n",
       "2                2          0   \n",
       "3                3          0   \n",
       "4                4          0   \n",
       "...            ...        ...   \n",
       "307386      307386        366   \n",
       "307387      307387        366   \n",
       "307388      307388        366   \n",
       "307389      307389        366   \n",
       "307390      307390        366   \n",
       "\n",
       "                                               text_clean  \n",
       "0                                                  \\n  \\n  \n",
       "1                                    SIR BRIAN LANGSTAFF:  \n",
       "2          Our next witness will give evidence \\nunder...  \n",
       "3                                    SIR BRIAN LANGSTAFF:  \n",
       "4          I understand, Mrs D, that for your \\ncomfor...  \n",
       "...                                                   ...  \n",
       "307386                                      Thank you. \\n  \n",
       "307387                               SIR BRIAN LANGSTAFF:  \n",
       "307388                             10 o'clock tomorrow.\\n  \n",
       "307389                                  MS FRASER BUTLIN:  \n",
       "307390     Thank you, sir. \\n(5.08 pm) \\n(Adjourned un...  \n",
       "\n",
       "[307385 rows x 3 columns]"
      ]
     },
     "execution_count": 31,
     "metadata": {},
     "output_type": "execute_result"
    }
   ],
   "source": [
    "at"
   ]
  },
  {
   "cell_type": "code",
   "execution_count": 42,
   "metadata": {},
   "outputs": [],
   "source": [
    "from whoosh.fields import Schema, TEXT, ID\n",
    "from whoosh import index\n",
    "import os, os.path\n",
    "from whoosh import index\n",
    "from whoosh import qparser\n",
    "from whoosh.qparser import QueryParser\n",
    "\n",
    "schema = Schema(org_idx=ID(stored=True), path=ID(stored=True), content=TEXT(stored = True))"
   ]
  },
  {
   "cell_type": "code",
   "execution_count": 43,
   "metadata": {},
   "outputs": [],
   "source": [
    "if not os.path.exists(\"test_index_dir\"):\n",
    "    os.mkdir(\"test_index_dir\")"
   ]
  },
  {
   "cell_type": "code",
   "execution_count": 44,
   "metadata": {},
   "outputs": [],
   "source": [
    "ix = index.create_in(\"test_index_dir\", schema)\n",
    "writer = ix.writer()\n",
    "\n",
    "for i in range(len(at)):\n",
    "    writer.add_document(org_idx = str(at.org_index.iloc[i]), content=str(at.text_clean.iloc[i]), path=str(i))\n",
    "\n",
    "writer.commit()"
   ]
  },
  {
   "cell_type": "code",
   "execution_count": 52,
   "metadata": {},
   "outputs": [],
   "source": [
    "def index_search(dirname, search_fields, search_query):\n",
    "    ix = index.open_dir(dirname)\n",
    "    schema = ix.schema\n",
    "    \n",
    "    og = qparser.OrGroup.factory(0.9)\n",
    "    mp = qparser.MultifieldParser(search_fields, schema, group = og)\n",
    "\n",
    "    \n",
    "    q = mp.parse(search_query)\n",
    "    \n",
    "    \n",
    "    with ix.searcher() as s:\n",
    "        results = s.search(q, terms=True)\n",
    "        print(\"Search Results: \")\n",
    "        \n",
    "        \n",
    "        return results[0:20]"
   ]
  },
  {
   "cell_type": "code",
   "execution_count": 53,
   "metadata": {},
   "outputs": [
    {
     "name": "stdout",
     "output_type": "stream",
     "text": [
      "Search Results: \n"
     ]
    }
   ],
   "source": [
    "results_dict = index_search(\"test_index_dir\", ['content'], u\"compensation AND Macfarlane\")"
   ]
  },
  {
   "cell_type": "code",
   "execution_count": 54,
   "metadata": {},
   "outputs": [
    {
     "ename": "ReaderClosed",
     "evalue": "",
     "output_type": "error",
     "traceback": [
      "\u001b[0;31m---------------------------------------------------------------------------\u001b[0m",
      "\u001b[0;31mReaderClosed\u001b[0m                              Traceback (most recent call last)",
      "File \u001b[0;32m~/miniconda3/envs/w2v/lib/python3.10/site-packages/IPython/core/formatters.py:706\u001b[0m, in \u001b[0;36mPlainTextFormatter.__call__\u001b[0;34m(self, obj)\u001b[0m\n\u001b[1;32m    699\u001b[0m stream \u001b[39m=\u001b[39m StringIO()\n\u001b[1;32m    700\u001b[0m printer \u001b[39m=\u001b[39m pretty\u001b[39m.\u001b[39mRepresentationPrinter(stream, \u001b[39mself\u001b[39m\u001b[39m.\u001b[39mverbose,\n\u001b[1;32m    701\u001b[0m     \u001b[39mself\u001b[39m\u001b[39m.\u001b[39mmax_width, \u001b[39mself\u001b[39m\u001b[39m.\u001b[39mnewline,\n\u001b[1;32m    702\u001b[0m     max_seq_length\u001b[39m=\u001b[39m\u001b[39mself\u001b[39m\u001b[39m.\u001b[39mmax_seq_length,\n\u001b[1;32m    703\u001b[0m     singleton_pprinters\u001b[39m=\u001b[39m\u001b[39mself\u001b[39m\u001b[39m.\u001b[39msingleton_printers,\n\u001b[1;32m    704\u001b[0m     type_pprinters\u001b[39m=\u001b[39m\u001b[39mself\u001b[39m\u001b[39m.\u001b[39mtype_printers,\n\u001b[1;32m    705\u001b[0m     deferred_pprinters\u001b[39m=\u001b[39m\u001b[39mself\u001b[39m\u001b[39m.\u001b[39mdeferred_printers)\n\u001b[0;32m--> 706\u001b[0m printer\u001b[39m.\u001b[39;49mpretty(obj)\n\u001b[1;32m    707\u001b[0m printer\u001b[39m.\u001b[39mflush()\n\u001b[1;32m    708\u001b[0m \u001b[39mreturn\u001b[39;00m stream\u001b[39m.\u001b[39mgetvalue()\n",
      "File \u001b[0;32m~/miniconda3/envs/w2v/lib/python3.10/site-packages/IPython/lib/pretty.py:393\u001b[0m, in \u001b[0;36mRepresentationPrinter.pretty\u001b[0;34m(self, obj)\u001b[0m\n\u001b[1;32m    390\u001b[0m \u001b[39mfor\u001b[39;00m \u001b[39mcls\u001b[39m \u001b[39min\u001b[39;00m _get_mro(obj_class):\n\u001b[1;32m    391\u001b[0m     \u001b[39mif\u001b[39;00m \u001b[39mcls\u001b[39m \u001b[39min\u001b[39;00m \u001b[39mself\u001b[39m\u001b[39m.\u001b[39mtype_pprinters:\n\u001b[1;32m    392\u001b[0m         \u001b[39m# printer registered in self.type_pprinters\u001b[39;00m\n\u001b[0;32m--> 393\u001b[0m         \u001b[39mreturn\u001b[39;00m \u001b[39mself\u001b[39;49m\u001b[39m.\u001b[39;49mtype_pprinters[\u001b[39mcls\u001b[39;49m](obj, \u001b[39mself\u001b[39;49m, cycle)\n\u001b[1;32m    394\u001b[0m     \u001b[39melse\u001b[39;00m:\n\u001b[1;32m    395\u001b[0m         \u001b[39m# deferred printer\u001b[39;00m\n\u001b[1;32m    396\u001b[0m         printer \u001b[39m=\u001b[39m \u001b[39mself\u001b[39m\u001b[39m.\u001b[39m_in_deferred_types(\u001b[39mcls\u001b[39m)\n",
      "File \u001b[0;32m~/miniconda3/envs/w2v/lib/python3.10/site-packages/IPython/lib/pretty.py:640\u001b[0m, in \u001b[0;36m_seq_pprinter_factory.<locals>.inner\u001b[0;34m(obj, p, cycle)\u001b[0m\n\u001b[1;32m    638\u001b[0m         p\u001b[39m.\u001b[39mtext(\u001b[39m'\u001b[39m\u001b[39m,\u001b[39m\u001b[39m'\u001b[39m)\n\u001b[1;32m    639\u001b[0m         p\u001b[39m.\u001b[39mbreakable()\n\u001b[0;32m--> 640\u001b[0m     p\u001b[39m.\u001b[39;49mpretty(x)\n\u001b[1;32m    641\u001b[0m \u001b[39mif\u001b[39;00m \u001b[39mlen\u001b[39m(obj) \u001b[39m==\u001b[39m \u001b[39m1\u001b[39m \u001b[39mand\u001b[39;00m \u001b[39misinstance\u001b[39m(obj, \u001b[39mtuple\u001b[39m):\n\u001b[1;32m    642\u001b[0m     \u001b[39m# Special case for 1-item tuples.\u001b[39;00m\n\u001b[1;32m    643\u001b[0m     p\u001b[39m.\u001b[39mtext(\u001b[39m'\u001b[39m\u001b[39m,\u001b[39m\u001b[39m'\u001b[39m)\n",
      "File \u001b[0;32m~/miniconda3/envs/w2v/lib/python3.10/site-packages/IPython/lib/pretty.py:410\u001b[0m, in \u001b[0;36mRepresentationPrinter.pretty\u001b[0;34m(self, obj)\u001b[0m\n\u001b[1;32m    407\u001b[0m                         \u001b[39mreturn\u001b[39;00m meth(obj, \u001b[39mself\u001b[39m, cycle)\n\u001b[1;32m    408\u001b[0m                 \u001b[39mif\u001b[39;00m \u001b[39mcls\u001b[39m \u001b[39mis\u001b[39;00m \u001b[39mnot\u001b[39;00m \u001b[39mobject\u001b[39m \\\n\u001b[1;32m    409\u001b[0m                         \u001b[39mand\u001b[39;00m callable(\u001b[39mcls\u001b[39m\u001b[39m.\u001b[39m\u001b[39m__dict__\u001b[39m\u001b[39m.\u001b[39mget(\u001b[39m'\u001b[39m\u001b[39m__repr__\u001b[39m\u001b[39m'\u001b[39m)):\n\u001b[0;32m--> 410\u001b[0m                     \u001b[39mreturn\u001b[39;00m _repr_pprint(obj, \u001b[39mself\u001b[39;49m, cycle)\n\u001b[1;32m    412\u001b[0m     \u001b[39mreturn\u001b[39;00m _default_pprint(obj, \u001b[39mself\u001b[39m, cycle)\n\u001b[1;32m    413\u001b[0m \u001b[39mfinally\u001b[39;00m:\n",
      "File \u001b[0;32m~/miniconda3/envs/w2v/lib/python3.10/site-packages/IPython/lib/pretty.py:778\u001b[0m, in \u001b[0;36m_repr_pprint\u001b[0;34m(obj, p, cycle)\u001b[0m\n\u001b[1;32m    776\u001b[0m \u001b[39m\"\"\"A pprint that just redirects to the normal repr function.\"\"\"\u001b[39;00m\n\u001b[1;32m    777\u001b[0m \u001b[39m# Find newlines and replace them with p.break_()\u001b[39;00m\n\u001b[0;32m--> 778\u001b[0m output \u001b[39m=\u001b[39m \u001b[39mrepr\u001b[39;49m(obj)\n\u001b[1;32m    779\u001b[0m lines \u001b[39m=\u001b[39m output\u001b[39m.\u001b[39msplitlines()\n\u001b[1;32m    780\u001b[0m \u001b[39mwith\u001b[39;00m p\u001b[39m.\u001b[39mgroup():\n",
      "File \u001b[0;32m~/miniconda3/envs/w2v/lib/python3.10/site-packages/whoosh/searching.py:1488\u001b[0m, in \u001b[0;36mHit.__repr__\u001b[0;34m(self)\u001b[0m\n\u001b[1;32m   1487\u001b[0m \u001b[39mdef\u001b[39;00m \u001b[39m__repr__\u001b[39m(\u001b[39mself\u001b[39m):\n\u001b[0;32m-> 1488\u001b[0m     \u001b[39mreturn\u001b[39;00m \u001b[39m\"\u001b[39m\u001b[39m<\u001b[39m\u001b[39m%s\u001b[39;00m\u001b[39m \u001b[39m\u001b[39m%r\u001b[39;00m\u001b[39m>\u001b[39m\u001b[39m\"\u001b[39m \u001b[39m%\u001b[39m (\u001b[39mself\u001b[39m\u001b[39m.\u001b[39m\u001b[39m__class__\u001b[39m\u001b[39m.\u001b[39m\u001b[39m__name__\u001b[39m, \u001b[39mself\u001b[39;49m\u001b[39m.\u001b[39;49mfields())\n",
      "File \u001b[0;32m~/miniconda3/envs/w2v/lib/python3.10/site-packages/whoosh/searching.py:1393\u001b[0m, in \u001b[0;36mHit.fields\u001b[0;34m(self)\u001b[0m\n\u001b[1;32m   1388\u001b[0m \u001b[39m\"\"\"Returns a dictionary of the stored fields of the document this\u001b[39;00m\n\u001b[1;32m   1389\u001b[0m \u001b[39mobject represents.\u001b[39;00m\n\u001b[1;32m   1390\u001b[0m \u001b[39m\"\"\"\u001b[39;00m\n\u001b[1;32m   1392\u001b[0m \u001b[39mif\u001b[39;00m \u001b[39mself\u001b[39m\u001b[39m.\u001b[39m_fields \u001b[39mis\u001b[39;00m \u001b[39mNone\u001b[39;00m:\n\u001b[0;32m-> 1393\u001b[0m     \u001b[39mself\u001b[39m\u001b[39m.\u001b[39m_fields \u001b[39m=\u001b[39m \u001b[39mself\u001b[39;49m\u001b[39m.\u001b[39;49msearcher\u001b[39m.\u001b[39;49mstored_fields(\u001b[39mself\u001b[39;49m\u001b[39m.\u001b[39;49mdocnum)\n\u001b[1;32m   1394\u001b[0m \u001b[39mreturn\u001b[39;00m \u001b[39mself\u001b[39m\u001b[39m.\u001b[39m_fields\n",
      "File \u001b[0;32m~/miniconda3/envs/w2v/lib/python3.10/site-packages/whoosh/reading.py:683\u001b[0m, in \u001b[0;36mSegmentReader.stored_fields\u001b[0;34m(self, docnum)\u001b[0m\n\u001b[1;32m    681\u001b[0m \u001b[39mdef\u001b[39;00m \u001b[39mstored_fields\u001b[39m(\u001b[39mself\u001b[39m, docnum):\n\u001b[1;32m    682\u001b[0m     \u001b[39mif\u001b[39;00m \u001b[39mself\u001b[39m\u001b[39m.\u001b[39mis_closed:\n\u001b[0;32m--> 683\u001b[0m         \u001b[39mraise\u001b[39;00m ReaderClosed\n\u001b[1;32m    684\u001b[0m     \u001b[39massert\u001b[39;00m docnum \u001b[39m>\u001b[39m\u001b[39m=\u001b[39m \u001b[39m0\u001b[39m\n\u001b[1;32m    685\u001b[0m     schema \u001b[39m=\u001b[39m \u001b[39mself\u001b[39m\u001b[39m.\u001b[39mschema\n",
      "\u001b[0;31mReaderClosed\u001b[0m: "
     ]
    }
   ],
   "source": [
    "results_dict[0:10]"
   ]
  },
  {
   "cell_type": "code",
   "execution_count": 4,
   "metadata": {},
   "outputs": [],
   "source": [
    "search = 'compensation'"
   ]
  },
  {
   "cell_type": "code",
   "execution_count": 6,
   "metadata": {},
   "outputs": [],
   "source": [
    "loc_input = at.text_clean.str.contains(f'\\s{search}\\s')\n",
    "search_trans = at.loc[loc_input]"
   ]
  },
  {
   "cell_type": "code",
   "execution_count": 15,
   "metadata": {},
   "outputs": [
    {
     "data": {
      "text/html": [
       "<div>\n",
       "<style scoped>\n",
       "    .dataframe tbody tr th:only-of-type {\n",
       "        vertical-align: middle;\n",
       "    }\n",
       "\n",
       "    .dataframe tbody tr th {\n",
       "        vertical-align: top;\n",
       "    }\n",
       "\n",
       "    .dataframe thead th {\n",
       "        text-align: right;\n",
       "    }\n",
       "</style>\n",
       "<table border=\"1\" class=\"dataframe\">\n",
       "  <thead>\n",
       "    <tr style=\"text-align: right;\">\n",
       "      <th></th>\n",
       "      <th>Unnamed: 0</th>\n",
       "      <th>org_index</th>\n",
       "      <th>text_clean</th>\n",
       "    </tr>\n",
       "  </thead>\n",
       "  <tbody>\n",
       "    <tr>\n",
       "      <th>2487</th>\n",
       "      <td>2487</td>\n",
       "      <td>5</td>\n",
       "      <td>No, I wasn't aware of it and I was just rerea...</td>\n",
       "    </tr>\n",
       "    <tr>\n",
       "      <th>6348</th>\n",
       "      <td>6348</td>\n",
       "      <td>12</td>\n",
       "      <td>You've described the process as: \\n\"... incre...</td>\n",
       "    </tr>\n",
       "    <tr>\n",
       "      <th>10760</th>\n",
       "      <td>10760</td>\n",
       "      <td>22</td>\n",
       "      <td>Yes, I just set some thoughts out.  If you'll...</td>\n",
       "    </tr>\n",
       "    <tr>\n",
       "      <th>11188</th>\n",
       "      <td>11188</td>\n",
       "      <td>24</td>\n",
       "      <td>The hepatitis C we only became aware of becau...</td>\n",
       "    </tr>\n",
       "    <tr>\n",
       "      <th>11767</th>\n",
       "      <td>11767</td>\n",
       "      <td>25</td>\n",
       "      <td>I do, because my stage 1 is very close to wha...</td>\n",
       "    </tr>\n",
       "    <tr>\n",
       "      <th>15480</th>\n",
       "      <td>15480</td>\n",
       "      <td>32</td>\n",
       "      <td>I want to just ask you a little about the lit...</td>\n",
       "    </tr>\n",
       "    <tr>\n",
       "      <th>15538</th>\n",
       "      <td>15538</td>\n",
       "      <td>32</td>\n",
       "      <td>Okay.  One of the things I do need to say, it...</td>\n",
       "    </tr>\n",
       "    <tr>\n",
       "      <th>17747</th>\n",
       "      <td>17747</td>\n",
       "      <td>37</td>\n",
       "      <td>Means testing.  What has my wife's income got...</td>\n",
       "    </tr>\n",
       "    <tr>\n",
       "      <th>21041</th>\n",
       "      <td>21041</td>\n",
       "      <td>45</td>\n",
       "      <td>Okay.  All right.  Well, if you can't assist ...</td>\n",
       "    </tr>\n",
       "    <tr>\n",
       "      <th>21049</th>\n",
       "      <td>21049</td>\n",
       "      <td>45</td>\n",
       "      <td>We can take that document down.  Before I sho...</td>\n",
       "    </tr>\n",
       "  </tbody>\n",
       "</table>\n",
       "</div>"
      ],
      "text/plain": [
       "       Unnamed: 0  org_index  \\\n",
       "2487         2487          5   \n",
       "6348         6348         12   \n",
       "10760       10760         22   \n",
       "11188       11188         24   \n",
       "11767       11767         25   \n",
       "15480       15480         32   \n",
       "15538       15538         32   \n",
       "17747       17747         37   \n",
       "21041       21041         45   \n",
       "21049       21049         45   \n",
       "\n",
       "                                              text_clean  \n",
       "2487    No, I wasn't aware of it and I was just rerea...  \n",
       "6348    You've described the process as: \\n\"... incre...  \n",
       "10760   Yes, I just set some thoughts out.  If you'll...  \n",
       "11188   The hepatitis C we only became aware of becau...  \n",
       "11767   I do, because my stage 1 is very close to wha...  \n",
       "15480   I want to just ask you a little about the lit...  \n",
       "15538   Okay.  One of the things I do need to say, it...  \n",
       "17747   Means testing.  What has my wife's income got...  \n",
       "21041   Okay.  All right.  Well, if you can't assist ...  \n",
       "21049   We can take that document down.  Before I sho...  "
      ]
     },
     "execution_count": 15,
     "metadata": {},
     "output_type": "execute_result"
    }
   ],
   "source": [
    "search_trans[0:10]"
   ]
  },
  {
   "cell_type": "code",
   "execution_count": 16,
   "metadata": {},
   "outputs": [
    {
     "data": {
      "text/plain": [
       "bytes"
      ]
     },
     "execution_count": 16,
     "metadata": {},
     "output_type": "execute_result"
    }
   ],
   "source": [
    "type(search_trans.to_csv().encode('utf-8'))"
   ]
  },
  {
   "cell_type": "code",
   "execution_count": 22,
   "metadata": {},
   "outputs": [
    {
     "data": {
      "text/plain": [
       "bytes"
      ]
     },
     "execution_count": 22,
     "metadata": {},
     "output_type": "execute_result"
    }
   ],
   "source": [
    "#with open('test.txt', 'w') as f: [f.write(f'\\n--Result #{i+1}--\\n{doc}') for i, doc in enumerate(search_trans.text_clean.to_list())]\n",
    "\n",
    "type(''.join([f'\\n--Result #{i+1}--\\n{doc}' for i, doc in enumerate(search_trans.text_clean.to_list())]).encode('utf-8'))"
   ]
  },
  {
   "cell_type": "code",
   "execution_count": 30,
   "metadata": {},
   "outputs": [
    {
     "data": {
      "text/plain": [
       "'(?=.*compensation) (?=.*litigation)'"
      ]
     },
     "execution_count": 30,
     "metadata": {},
     "output_type": "execute_result"
    }
   ],
   "source": [
    "search = 'compensation AND litigation'\n",
    "if 'AND' in search:\n",
    "    s_list = search.split('AND')\n",
    "    search = ' '.join([f'(?=.*{s.strip()})' for s in s_list])\n",
    "\n",
    "search"
   ]
  },
  {
   "cell_type": "code",
   "execution_count": 31,
   "metadata": {},
   "outputs": [],
   "source": [
    "search_trans = at.loc[(at.text_clean.str.contains(f'\\s{search}\\s'))]"
   ]
  },
  {
   "cell_type": "code",
   "execution_count": 32,
   "metadata": {},
   "outputs": [
    {
     "data": {
      "text/html": [
       "<div>\n",
       "<style scoped>\n",
       "    .dataframe tbody tr th:only-of-type {\n",
       "        vertical-align: middle;\n",
       "    }\n",
       "\n",
       "    .dataframe tbody tr th {\n",
       "        vertical-align: top;\n",
       "    }\n",
       "\n",
       "    .dataframe thead th {\n",
       "        text-align: right;\n",
       "    }\n",
       "</style>\n",
       "<table border=\"1\" class=\"dataframe\">\n",
       "  <thead>\n",
       "    <tr style=\"text-align: right;\">\n",
       "      <th></th>\n",
       "      <th>Unnamed: 0</th>\n",
       "      <th>org_index</th>\n",
       "      <th>text_clean</th>\n",
       "    </tr>\n",
       "  </thead>\n",
       "  <tbody>\n",
       "  </tbody>\n",
       "</table>\n",
       "</div>"
      ],
      "text/plain": [
       "Empty DataFrame\n",
       "Columns: [Unnamed: 0, org_index, text_clean]\n",
       "Index: []"
      ]
     },
     "execution_count": 32,
     "metadata": {},
     "output_type": "execute_result"
    }
   ],
   "source": [
    "search_trans"
   ]
  },
  {
   "cell_type": "code",
   "execution_count": null,
   "metadata": {},
   "outputs": [],
   "source": []
  }
 ],
 "metadata": {
  "kernelspec": {
   "display_name": "Python 3.10.8 ('w2v')",
   "language": "python",
   "name": "python3"
  },
  "language_info": {
   "codemirror_mode": {
    "name": "ipython",
    "version": 3
   },
   "file_extension": ".py",
   "mimetype": "text/x-python",
   "name": "python",
   "nbconvert_exporter": "python",
   "pygments_lexer": "ipython3",
   "version": "3.10.8"
  },
  "orig_nbformat": 4,
  "vscode": {
   "interpreter": {
    "hash": "b6395d14b8bd5e838533326991f0b0dffc177e180ad10f42a92a27d59a9f06a3"
   }
  }
 },
 "nbformat": 4,
 "nbformat_minor": 2
}
